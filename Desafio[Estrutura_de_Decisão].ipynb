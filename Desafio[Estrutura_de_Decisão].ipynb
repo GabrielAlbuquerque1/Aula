{
  "nbformat": 4,
  "nbformat_minor": 0,
  "metadata": {
    "colab": {
      "name": "Desafio[Estrutura_de_Decisão].ipynb",
      "provenance": [],
      "collapsed_sections": [],
      "include_colab_link": true
    },
    "kernelspec": {
      "name": "python3",
      "display_name": "Python 3"
    },
    "language_info": {
      "name": "python"
    }
  },
  "cells": [
    {
      "cell_type": "markdown",
      "metadata": {
        "id": "view-in-github",
        "colab_type": "text"
      },
      "source": [
        "<a href=\"https://colab.research.google.com/github/GabrielAlbuquerque1/Aula/blob/ETEPD/Desafio%5BEstrutura_de_Decis%C3%A3o%5D.ipynb\" target=\"_parent\"><img src=\"https://colab.research.google.com/assets/colab-badge.svg\" alt=\"Open In Colab\"/></a>"
      ]
    },
    {
      "cell_type": "code",
      "execution_count": null,
      "metadata": {
        "colab": {
          "base_uri": "https://localhost:8080/"
        },
        "id": "f95MfjQAlPyi",
        "outputId": "a0f40a06-6243-4a18-d90c-66829a553f4e"
      },
      "outputs": [
        {
          "output_type": "stream",
          "name": "stdout",
          "text": [
            "Alô ETE PORTO DIGITAL \n"
          ]
        }
      ],
      "source": [
        "# EXERCÍCIO 01\n",
        "\n",
        "print(\"Alô ETE PORTO DIGITAL \")"
      ]
    },
    {
      "cell_type": "code",
      "source": [
        "# EXERCÍCIO 02\n",
        "\n",
        "numero = int(input(\"digite um número: \"))\n",
        "\n",
        "print(f\"O número informado foi {numero}\")"
      ],
      "metadata": {
        "colab": {
          "base_uri": "https://localhost:8080/"
        },
        "id": "5WRtiCV-l9h9",
        "outputId": "0c5e9345-8906-4b03-9b3f-10d4fd0ed09e"
      },
      "execution_count": null,
      "outputs": [
        {
          "output_type": "stream",
          "name": "stdout",
          "text": [
            "digite um número: 5\n",
            "O número informado foi 5\n"
          ]
        }
      ]
    },
    {
      "cell_type": "code",
      "source": [
        "# EXERCÍCIO 03\n",
        "\n",
        "n1 = int(input(\"Digite um número: \"))\n",
        "n2 = int(input(\"Digite um número: \"))\n",
        "\n",
        "print(f\"A soma entre {n1} e {n2} é {n1+n2}\")"
      ],
      "metadata": {
        "colab": {
          "base_uri": "https://localhost:8080/"
        },
        "id": "S4UBm9ktm0l0",
        "outputId": "6b2a7116-93b6-4b59-be08-ac96fb4c1c0e"
      },
      "execution_count": null,
      "outputs": [
        {
          "output_type": "stream",
          "name": "stdout",
          "text": [
            "Digite um número: 5\n",
            "Digite um número: 5\n",
            "A soma entre 5 e 5 é 10\n"
          ]
        }
      ]
    },
    {
      "cell_type": "code",
      "source": [
        "# EXERCÍCIO 04\n",
        "\n",
        "soma = 0\n",
        "for i in range(4):\n",
        "    nota = int(input('Digite suas notas: '))\n",
        "    soma = soma + nota\n",
        "media = (soma)/4\n",
        "\n",
        "print(f'A sua média é {media}')"
      ],
      "metadata": {
        "colab": {
          "base_uri": "https://localhost:8080/"
        },
        "id": "lMvv4ZQWnj54",
        "outputId": "6576de11-4c9a-4ec3-fa03-3c7dd3c56bdd"
      },
      "execution_count": null,
      "outputs": [
        {
          "output_type": "stream",
          "name": "stdout",
          "text": [
            "Digite suas notas: 5\n",
            "Digite suas notas: 5\n",
            "Digite suas notas: 5\n",
            "Digite suas notas: 5\n",
            "A sua média é 5.0\n"
          ]
        }
      ]
    },
    {
      "cell_type": "code",
      "source": [
        "# Exercício 05\n",
        "\n",
        "metro = int(input(\"digite um valor: \"))\n",
        "centimetro = metro*100\n",
        "\n",
        "print(f\"{metro}m em centímetros é {(centimetro)}cm\")\n",
        "\n",
        "\n"
      ],
      "metadata": {
        "colab": {
          "base_uri": "https://localhost:8080/"
        },
        "id": "YZ1dcwvWr5bh",
        "outputId": "512b3b9f-72f7-42be-e357-33cf888c2416"
      },
      "execution_count": null,
      "outputs": [
        {
          "output_type": "stream",
          "name": "stdout",
          "text": [
            "digite um valor: 180\n",
            "180m em centímetros é 18000cm\n"
          ]
        }
      ]
    },
    {
      "cell_type": "code",
      "source": [
        "# EXERCÍCIO 06\n",
        "\n",
        "raio = float(input('Digite o valor do raio: '))\n",
        "area = 3.14*raio**2\n",
        "\n",
        "print(f\"A área do círculo é {area}\")"
      ],
      "metadata": {
        "colab": {
          "base_uri": "https://localhost:8080/"
        },
        "id": "5hVVJi2SuAiG",
        "outputId": "b29d98a8-53c8-466b-fc87-ad51f32709f5"
      },
      "execution_count": null,
      "outputs": [
        {
          "output_type": "stream",
          "name": "stdout",
          "text": [
            "Digite o valor do raio: 2\n",
            "A área do círculo é 12.56\n"
          ]
        }
      ]
    },
    {
      "cell_type": "code",
      "source": [
        "# EXERCÍCIO 07\n",
        "\n",
        "n = int(input('digite um valor: '))\n",
        "area = n**2\n",
        "\n",
        "print(f'A área do quadrado é {area} e o seu dobro é {area*2}')"
      ],
      "metadata": {
        "colab": {
          "base_uri": "https://localhost:8080/"
        },
        "id": "8fAzS9CnxeDd",
        "outputId": "f6e9bb7f-524b-4374-809d-f98d7a98cd2d"
      },
      "execution_count": null,
      "outputs": [
        {
          "output_type": "stream",
          "name": "stdout",
          "text": [
            "digite um valor: 5\n",
            "A área do quadrado é 25 e o seu dobro é 50\n"
          ]
        }
      ]
    },
    {
      "cell_type": "code",
      "source": [
        "# EXERCÍCIO 08\n",
        "\n",
        "salario = float(input('Quanto você ganha por hora?: '))\n",
        "horas = float(input('quantas horas você trabalhou esse mês?: '))\n",
        "\n",
        "print(f'Seu salário esse mês é ${salario*horas}')"
      ],
      "metadata": {
        "colab": {
          "base_uri": "https://localhost:8080/"
        },
        "id": "Jk_bFAXvyo5t",
        "outputId": "52ed7be4-ae1a-4b45-ecea-6ba171ca5052"
      },
      "execution_count": null,
      "outputs": [
        {
          "output_type": "stream",
          "name": "stdout",
          "text": [
            "Quanto você ganha por hora?: 100\n",
            "quantas horas você trabalhou esse mês?: 5\n",
            "Seu salário esse mês é $500.0\n"
          ]
        }
      ]
    },
    {
      "cell_type": "code",
      "source": [
        "# EXERCÍCIO 09\n",
        "\n",
        "f = float(input('Digite os graus em Fahrenheit: '))\n",
        "c = 5 * ((f-32) / 9)\n",
        "\n",
        "print(f\"{f}°F em graus Celsius é {c}°C\")\n",
        "\n",
        "\n"
      ],
      "metadata": {
        "colab": {
          "base_uri": "https://localhost:8080/"
        },
        "id": "jWGQtmQVzrd3",
        "outputId": "3797a45e-51d5-4e0f-bdc4-b2bbcea3f64f"
      },
      "execution_count": null,
      "outputs": [
        {
          "output_type": "stream",
          "name": "stdout",
          "text": [
            "Digite os graus em Fahrenheit: 5\n",
            "5.0°F em graus Celsius é -15.0°C\n"
          ]
        }
      ]
    },
    {
      "cell_type": "code",
      "source": [
        "# EXERCÍCIO 10\n",
        "c = float(input('Digite os °C: '))\n",
        "f = ( c * 9/5) + 32 \n",
        "\n",
        "print(f'{c}°C em Fahrenheit é {f}°F')\n"
      ],
      "metadata": {
        "colab": {
          "base_uri": "https://localhost:8080/"
        },
        "id": "ZTpYSpda22p_",
        "outputId": "42dde7d2-2a3f-4137-926d-587ce6add185"
      },
      "execution_count": null,
      "outputs": [
        {
          "output_type": "stream",
          "name": "stdout",
          "text": [
            "Digite os °C: 5\n",
            "5.0°C em Fahrenheit é 41.0°F\n"
          ]
        }
      ]
    },
    {
      "cell_type": "code",
      "source": [
        "# EXERCÍCIO 11\n",
        "\n",
        "n1 = int(input('Entre com o primeiro valor: '))\n",
        "n2 = int(input('entre com o segundo valor: '))\n",
        "n3 = float(input('entre com o terceiro valor: '))\n",
        "\n",
        "print((n1*2)*n2/2)\n",
        "print((n1*3)+n3)\n",
        "print((n3**3))"
      ],
      "metadata": {
        "id": "9iI6DmeF3iCu",
        "colab": {
          "base_uri": "https://localhost:8080/"
        },
        "outputId": "5a62db1b-0e7e-41a1-9d6e-8dfcab8f6c5e"
      },
      "execution_count": null,
      "outputs": [
        {
          "output_type": "stream",
          "name": "stdout",
          "text": [
            "Entre com o primeiro valor: 2\n",
            "entre com o segundo valor: 2\n",
            "entre com o terceiro valor: 1.5\n",
            "4.0\n",
            "7.5\n",
            "3.375\n"
          ]
        }
      ]
    },
    {
      "cell_type": "code",
      "source": [
        "# EXERCÍCIO 12\n",
        "\n",
        "altura = float(input('Digite sua altura: '))\n",
        "peso_ideal = (72.7*altura) - 58\n",
        "\n",
        "print(f'Seu peso ideal é {peso_ideal}')\n",
        "\n"
      ],
      "metadata": {
        "colab": {
          "base_uri": "https://localhost:8080/"
        },
        "id": "W9niXFLQ4t63",
        "outputId": "06a491d1-f4b4-4125-af59-caf3d44843e4"
      },
      "execution_count": null,
      "outputs": [
        {
          "output_type": "stream",
          "name": "stdout",
          "text": [
            "Digite sua altura: 1.83\n",
            "Seu peso ideal é 75.041\n"
          ]
        }
      ]
    },
    {
      "cell_type": "code",
      "source": [
        "# EXERCÍCIO 13\n",
        "s = input('Qual seu sexo?: ')\n",
        "h = int(input('Qual sua altura: '))\n",
        "men = (72.7*h) - 58\n",
        "women = (62.1*h) - 44.7\n",
        "\n",
        "if s.lower() == 'homem':\n",
        "  print(f'Seu sexo é {s.lower()} peso ideal é: {men}')\n",
        "elif s.lower() == 'mulher':\n",
        "  print(f'Você é {s.lower()},sua altura é {h}cm,e seu peso ideal é {(women)}')\n",
        "\n"
      ],
      "metadata": {
        "id": "hPDRV-rV5r4p",
        "colab": {
          "base_uri": "https://localhost:8080/"
        },
        "outputId": "6db47bfd-2541-4bd2-e41b-774f3ff5c396"
      },
      "execution_count": null,
      "outputs": [
        {
          "output_type": "stream",
          "name": "stdout",
          "text": [
            "Qual seu sexo?: mulher\n",
            "Qual sua altura: 160\n",
            "Você é mulher,sua altura é160cm,e seu peso ideal é 9891.3\n"
          ]
        }
      ]
    },
    {
      "cell_type": "code",
      "source": [
        "# EXERCÍCIO 14\n",
        "\n",
        "peso = float(input('Digite o peso: '))\n",
        "excesso = 0\n",
        "\n",
        "if peso > 50:\n",
        "  excesso = peso-50\n",
        "  multa = excesso*4\n",
        "  print(f'Rendimento diário: {peso}kg')\n",
        "  print(f'Você excedeu o limite em {excesso}Kg')\n",
        "  print(f'Valor da multa: R${multa}')\n",
        "else:\n",
        "  print(\"Você não excedeu o limite\") \n",
        "            \n",
        "\n",
        "\n",
        "\n",
        "\n",
        "  \n",
        "\n"
      ],
      "metadata": {
        "colab": {
          "base_uri": "https://localhost:8080/"
        },
        "id": "pe-RsiNttHXy",
        "outputId": "4dbe2ffc-7668-4859-c283-ee1eee7d37ba"
      },
      "execution_count": null,
      "outputs": [
        {
          "output_type": "stream",
          "name": "stdout",
          "text": [
            "Digite o peso: 100\n",
            "Rendimento diário: 100.0kg\n",
            "Você excedeu o limite em 50.0Kg\n",
            "Valor da multa: R$200.0\n"
          ]
        }
      ]
    },
    {
      "cell_type": "code",
      "source": [
        "# EXERCÍCIO 15\n",
        "import locale\n",
        "\n",
        "tamanho = float(input('Tamanho do arquivo em MB: '))\n",
        "velocidade = float(input('Velocidade da internet em Mbps: '))\n",
        "tempo = (tamanho / velocidade)/60\n",
        "\n",
        "print(f'Tempo para finalizar o download:{tempo} minuto(s)')\n"
      ],
      "metadata": {
        "colab": {
          "base_uri": "https://localhost:8080/"
        },
        "id": "T9-wB4rRxHDK",
        "outputId": "03e085ea-222d-4288-dadf-992aa2adb1c4"
      },
      "execution_count": null,
      "outputs": [
        {
          "output_type": "stream",
          "name": "stdout",
          "text": [
            "Tamanho do arquivo em MB: 10\n",
            "Velocidade da internet em Mbps: 2\n",
            "Tempo para finalizar o download: 0,08333333333333333 minuto(s)\n"
          ]
        }
      ]
    }
  ]
}