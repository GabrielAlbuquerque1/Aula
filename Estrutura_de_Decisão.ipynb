{
  "nbformat": 4,
  "nbformat_minor": 0,
  "metadata": {
    "colab": {
      "name": "Estrutura_de_Decisão.ipynb",
      "provenance": [],
      "collapsed_sections": [],
      "authorship_tag": "ABX9TyPpfhNT9oOUf1DjXWlmmqpM",
      "include_colab_link": true
    },
    "kernelspec": {
      "name": "python3",
      "display_name": "Python 3"
    },
    "language_info": {
      "name": "python"
    }
  },
  "cells": [
    {
      "cell_type": "markdown",
      "metadata": {
        "id": "view-in-github",
        "colab_type": "text"
      },
      "source": [
        "<a href=\"https://colab.research.google.com/github/GabrielAlbuquerque1/Aula/blob/ETEPD/Estrutura_de_Decis%C3%A3o.ipynb\" target=\"_parent\"><img src=\"https://colab.research.google.com/assets/colab-badge.svg\" alt=\"Open In Colab\"/></a>"
      ]
    },
    {
      "cell_type": "code",
      "execution_count": 1,
      "metadata": {
        "colab": {
          "base_uri": "https://localhost:8080/"
        },
        "id": "i4nZSo8jm3Tw",
        "outputId": "98118ff5-42dc-405e-cf62-3f2b7597b7fc"
      },
      "outputs": [
        {
          "output_type": "stream",
          "name": "stdout",
          "text": [
            "Entre com um número: 5\n",
            "Entre com um número: 4\n",
            "5 é maior que 4\n"
          ]
        }
      ],
      "source": [
        "#exercício1\n",
        "n1 = int(input('Entre com um número: '))\n",
        "n2 = int(input('Entre com um número: '))\n",
        "\n",
        "if n1 > n2 :\n",
        "  print(f'{n1} é maior que {n2}')\n",
        "elif n2 > n1:\n",
        "      print(f'{n2} é maior que {n1}') \n",
        "else:\n",
        "  print(f'{n2} é igual a {n1}')"
      ]
    },
    {
      "cell_type": "code",
      "source": [
        "# exercício 2 \n",
        "\n",
        "num = int(input('Entre com um número: '))\n",
        "\n",
        "if num > 0:\n",
        "  print(f'{num} é positivo')\n",
        "else:\n",
        "  print(f'{num} é negativo')"
      ],
      "metadata": {
        "id": "_GG61ftEnKcQ"
      },
      "execution_count": null,
      "outputs": []
    },
    {
      "cell_type": "code",
      "source": [
        "# exercício 3\n",
        "\n",
        "print('Digite: ''\\n' 'F -> Feminino''\\n''M -> Masculino')\n",
        "sexo = input('Qual seu sexo?: ')\n",
        "\n",
        "if sexo.upper() == 'F':\n",
        "      print('Sexo Feminino')\n",
        "elif sexo.upper() == 'M':\n",
        "      print('Sexo Masculino')\n",
        "else:\n",
        "      print('Sexo inválido')  "
      ],
      "metadata": {
        "colab": {
          "base_uri": "https://localhost:8080/"
        },
        "id": "597U2ksUnNX1",
        "outputId": "974822ef-f6d5-469d-867c-2c66ca93ceeb"
      },
      "execution_count": null,
      "outputs": [
        {
          "output_type": "stream",
          "name": "stdout",
          "text": [
            "Digite: \n",
            "F -> Feminino\n",
            "M -> Masculino\n"
          ]
        }
      ]
    },
    {
      "cell_type": "code",
      "source": [
        "#exercício 4\n",
        "def vogal(z):\n",
        "    vogais = ['a', 'e', 'i', 'o', 'u']\n",
        "    return z.lower() in vogais\n",
        "\n",
        "  \n",
        "letra = input('Entre com uma letra: ')\n",
        "if vogal(letra) == True:\n",
        "      print(f\"{letra} é uma vogal\")\n",
        "elif letra.isnumeric() == True:\n",
        "      print(f\"Digite apenas letras\")\n",
        "else:\n",
        "      print(f'{letra} é uma consoante')"
      ],
      "metadata": {
        "colab": {
          "base_uri": "https://localhost:8080/"
        },
        "id": "oKoUdi20oOjV",
        "outputId": "e2658da8-31b9-41da-e360-e2175d051f87"
      },
      "execution_count": 5,
      "outputs": [
        {
          "output_type": "stream",
          "name": "stdout",
          "text": [
            "Entre com uma letra: f\n",
            "f é uma consoante\n"
          ]
        }
      ]
    },
    {
      "cell_type": "code",
      "source": [
        "#exercício 5\n",
        "lista = []\n",
        "for x in range(3):\n",
        "      num = int(input('Digite um número: '))\n",
        "      lista.append(num)\n",
        "print(f\"O maior número é {max(lista)}\")\n"
      ],
      "metadata": {
        "colab": {
          "base_uri": "https://localhost:8080/"
        },
        "id": "k88tTfXLoS4e",
        "outputId": "9418830a-8130-436d-cf68-ba2886344853"
      },
      "execution_count": 7,
      "outputs": [
        {
          "output_type": "stream",
          "name": "stdout",
          "text": [
            "Digite um número: 10\n",
            "Digite um número: 100\n",
            "Digite um número: 200\n",
            "O maior número é 200\n"
          ]
        }
      ]
    },
    {
      "cell_type": "code",
      "source": [
        "#Exercício 7\n",
        "\n",
        "produtoA = float(input('Qual o preço do primeiro produto?: $'))\n",
        "produtoB = float(input('Qual o preço do segundo produto?: $'))\n",
        "produtoC = float(input('Qual o preço do terceiro produto?: $'))\n",
        "\n",
        "def menorPreço():\n",
        "      if produtoA < produtoB and produtoA < produtoC:\n",
        "            print('Você deve comprar o primeiro produto')\n",
        "      elif produtoB < produtoA and produtoB < produtoC:\n",
        "            print('Você deve comprar o segundo produto')\n",
        "      elif produtoC < produtoA and produtoC < produtoB:\n",
        "            print('Você deve comprar o terceiro produto') \n",
        "      #Valores iguais:\n",
        "      elif produtoA == produtoB and produtoA and produtoB < produtoC:\n",
        "            print('Você deve comprar o primeiro e o segundo produto')\n",
        "      elif produtoB == produtoC and produtoB and produtoC < produtoA:\n",
        "            print('Você deve comprar o segundo e o terceiro produto')\n",
        "      elif produtoC == produtoA and produtoC and produtoA < produtoB:\n",
        "            print('Você deve comprar o primeiro e o terceiro produto')\n",
        "\n",
        "menorPreço()"
      ],
      "metadata": {
        "colab": {
          "base_uri": "https://localhost:8080/"
        },
        "id": "5Pw2VtFkos64",
        "outputId": "4edf3740-1ec8-4d76-b044-b141d185cc03"
      },
      "execution_count": 9,
      "outputs": [
        {
          "output_type": "stream",
          "name": "stdout",
          "text": [
            "Qual o preço do primeiro produto?: $100\n",
            "Qual o preço do segundo produto?: $200\n",
            "Qual o preço do terceiro produto?: $400\n",
            "Você deve comprar o primeiro produto\n"
          ]
        }
      ]
    },
    {
      "cell_type": "code",
      "source": [
        "#Exercício 8\n",
        "\n",
        "a = [5, 10, 15]\n",
        "a.sort(reverse=True)\n",
        "\n",
        "print(a)"
      ],
      "metadata": {
        "colab": {
          "base_uri": "https://localhost:8080/"
        },
        "id": "14H8hdz4pASr",
        "outputId": "1f3b9ed5-45fb-4ace-b945-8edb41bc7c69"
      },
      "execution_count": 10,
      "outputs": [
        {
          "output_type": "stream",
          "name": "stdout",
          "text": [
            "[15, 10, 5]\n"
          ]
        }
      ]
    },
    {
      "cell_type": "code",
      "source": [
        "#Exercício 9\n",
        "\n",
        "print('Digite M para Manhã','\\nDigite V para Vespertino','\\nDigite N para noite')\n",
        "turno = input('Em qual turno você estuda?: ')\n",
        "\n",
        "if turno.upper() == 'M':\n",
        "      print(\"Bom dia\")\n",
        "elif turno.upper() =='V':\n",
        "      print('Boa tarde')\n",
        "elif turno.upper() == 'N':\n",
        "      print('Boa noite')\n",
        "else:\n",
        "      print('Comando incorreto')\n",
        "      "
      ],
      "metadata": {
        "colab": {
          "base_uri": "https://localhost:8080/"
        },
        "id": "x3V5SbxxpCrb",
        "outputId": "62e1dc94-664e-419a-bed4-5451a4fa694e"
      },
      "execution_count": 11,
      "outputs": [
        {
          "output_type": "stream",
          "name": "stdout",
          "text": [
            "Digite M para Manhã \n",
            "Digite V para Vespertino \n",
            "Digite N para noite\n",
            "Em qual turno você estuda?: v\n",
            "Boa tarde\n"
          ]
        }
      ]
    },
    {
      "cell_type": "code",
      "source": [
        "#Exercício 10\n",
        "\n",
        "ano = int(input('Ano: '))\n",
        "if (ano % 4 == 0 and ano % 100 != 0) or (ano % 400 == 0):\n",
        "    print('Bissexto')\n",
        "else:\n",
        "    print('Não é bissexto')"
      ],
      "metadata": {
        "id": "gWpvF93HqPwJ"
      },
      "execution_count": null,
      "outputs": []
    },
    {
      "cell_type": "code",
      "source": [
        "#Exercício 11\n",
        "\n",
        "dia = int( input('Dia: ') )\n",
        "mes = int( input('Mês: ') )\n",
        "ano = int( input('Ano: ') )\n",
        "\n",
        "valida = False\n",
        "    \n",
        "# Meses com 31 dias\n",
        "if( mes==1 or mes==3 or mes==5 or mes==7 or \\\n",
        "        mes==8 or mes==10 or mes==12):\n",
        "        if(dia<=31):\n",
        "            valida = True\n",
        "    # Meses com 30 dias\n",
        "elif( mes==4 or mes==6 or mes==9 or mes==11):\n",
        "        if(dia<=30):\n",
        "            valida = True\n",
        "elif mes==2:\n",
        "        # Testa se é bissexto\n",
        "        if (ano%4==0 and ano%100!=0) or (ano%400==0):\n",
        "            if(dia<=29):\n",
        "                valida = True\n",
        "        elif(dia<=28):\n",
        "                valida = True\n",
        "\n",
        "if(valida):\n",
        "        print('Data válida')\n",
        "else:\n",
        "        print('Inválida')"
      ],
      "metadata": {
        "id": "5scDHuEgqjPi"
      },
      "execution_count": null,
      "outputs": []
    },
    {
      "cell_type": "code",
      "source": [
        "#Exercício 12\n",
        "\n",
        "respostas = []\n",
        "\n",
        "\n",
        "def pergunta(z):\n",
        "    respostas.append(int(input(z)))\n",
        "\n",
        "\n",
        "print('Responda apenas com: ', '\\n1-Sim ou 0-Não')\n",
        "\n",
        "while True:\n",
        "    try:\n",
        "        pergunta(\"Telefonou para a vítima?:\")\n",
        "        pergunta('Esteve no local do críme?: ')\n",
        "        pergunta('Mora perto da vítima?')\n",
        "        pergunta('Devia para vítima?')\n",
        "        pergunta('Já trabalhou com a vítima?:')\n",
        "        break\n",
        "    except ValueError:\n",
        "        print('Comando inválido')\n",
        "        continue\n",
        "\n",
        "\n",
        "status = sum(respostas)\n",
        "\n",
        "\n",
        "def resposta(a, num, txt):\n",
        "    if a == num:\n",
        "        print(txt)\n",
        "\n",
        "\n",
        "if status < 2:\n",
        "    print('inocente')\n",
        "\n",
        "\n",
        "resposta(status, 2, 'Suspeito')\n",
        "resposta(status, 3, 'Cúmplice')\n",
        "resposta(status, 4, 'Cúmplice')\n",
        "resposta(status, 5, 'Assassino')"
      ],
      "metadata": {
        "id": "mmr3Psliq1md"
      },
      "execution_count": null,
      "outputs": []
    }
  ]
}