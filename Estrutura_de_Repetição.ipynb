{
  "nbformat": 4,
  "nbformat_minor": 0,
  "metadata": {
    "colab": {
      "name": "Estrutura_de_Repetição.ipynb",
      "provenance": [],
      "collapsed_sections": [],
      "authorship_tag": "ABX9TyObUgmTIcqILIuV6e+Jjn+8",
      "include_colab_link": true
    },
    "kernelspec": {
      "name": "python3",
      "display_name": "Python 3"
    },
    "language_info": {
      "name": "python"
    }
  },
  "cells": [
    {
      "cell_type": "markdown",
      "metadata": {
        "id": "view-in-github",
        "colab_type": "text"
      },
      "source": [
        "<a href=\"https://colab.research.google.com/github/GabrielAlbuquerque1/Aula/blob/ETEPD/Estrutura_de_Repeti%C3%A7%C3%A3o.ipynb\" target=\"_parent\"><img src=\"https://colab.research.google.com/assets/colab-badge.svg\" alt=\"Open In Colab\"/></a>"
      ]
    },
    {
      "cell_type": "code",
      "execution_count": 1,
      "metadata": {
        "colab": {
          "base_uri": "https://localhost:8080/",
          "height": 536
        },
        "id": "idLLN-qlF-pj",
        "outputId": "3aff6664-efac-4896-9ff3-c21be1f27beb"
      },
      "outputs": [
        {
          "output_type": "error",
          "ename": "KeyboardInterrupt",
          "evalue": "ignored",
          "traceback": [
            "\u001b[0;31m---------------------------------------------------------------------------\u001b[0m",
            "\u001b[0;31mKeyboardInterrupt\u001b[0m                         Traceback (most recent call last)",
            "\u001b[0;32m/usr/local/lib/python3.7/dist-packages/ipykernel/kernelbase.py\u001b[0m in \u001b[0;36m_input_request\u001b[0;34m(self, prompt, ident, parent, password)\u001b[0m\n\u001b[1;32m    728\u001b[0m             \u001b[0;32mtry\u001b[0m\u001b[0;34m:\u001b[0m\u001b[0;34m\u001b[0m\u001b[0;34m\u001b[0m\u001b[0m\n\u001b[0;32m--> 729\u001b[0;31m                 \u001b[0mident\u001b[0m\u001b[0;34m,\u001b[0m \u001b[0mreply\u001b[0m \u001b[0;34m=\u001b[0m \u001b[0mself\u001b[0m\u001b[0;34m.\u001b[0m\u001b[0msession\u001b[0m\u001b[0;34m.\u001b[0m\u001b[0mrecv\u001b[0m\u001b[0;34m(\u001b[0m\u001b[0mself\u001b[0m\u001b[0;34m.\u001b[0m\u001b[0mstdin_socket\u001b[0m\u001b[0;34m,\u001b[0m \u001b[0;36m0\u001b[0m\u001b[0;34m)\u001b[0m\u001b[0;34m\u001b[0m\u001b[0;34m\u001b[0m\u001b[0m\n\u001b[0m\u001b[1;32m    730\u001b[0m             \u001b[0;32mexcept\u001b[0m \u001b[0mException\u001b[0m\u001b[0;34m:\u001b[0m\u001b[0;34m\u001b[0m\u001b[0;34m\u001b[0m\u001b[0m\n",
            "\u001b[0;32m/usr/local/lib/python3.7/dist-packages/jupyter_client/session.py\u001b[0m in \u001b[0;36mrecv\u001b[0;34m(self, socket, mode, content, copy)\u001b[0m\n\u001b[1;32m    802\u001b[0m         \u001b[0;32mtry\u001b[0m\u001b[0;34m:\u001b[0m\u001b[0;34m\u001b[0m\u001b[0;34m\u001b[0m\u001b[0m\n\u001b[0;32m--> 803\u001b[0;31m             \u001b[0mmsg_list\u001b[0m \u001b[0;34m=\u001b[0m \u001b[0msocket\u001b[0m\u001b[0;34m.\u001b[0m\u001b[0mrecv_multipart\u001b[0m\u001b[0;34m(\u001b[0m\u001b[0mmode\u001b[0m\u001b[0;34m,\u001b[0m \u001b[0mcopy\u001b[0m\u001b[0;34m=\u001b[0m\u001b[0mcopy\u001b[0m\u001b[0;34m)\u001b[0m\u001b[0;34m\u001b[0m\u001b[0;34m\u001b[0m\u001b[0m\n\u001b[0m\u001b[1;32m    804\u001b[0m         \u001b[0;32mexcept\u001b[0m \u001b[0mzmq\u001b[0m\u001b[0;34m.\u001b[0m\u001b[0mZMQError\u001b[0m \u001b[0;32mas\u001b[0m \u001b[0me\u001b[0m\u001b[0;34m:\u001b[0m\u001b[0;34m\u001b[0m\u001b[0;34m\u001b[0m\u001b[0m\n",
            "\u001b[0;32m/usr/local/lib/python3.7/dist-packages/zmq/sugar/socket.py\u001b[0m in \u001b[0;36mrecv_multipart\u001b[0;34m(self, flags, copy, track)\u001b[0m\n\u001b[1;32m    624\u001b[0m         \"\"\"\n\u001b[0;32m--> 625\u001b[0;31m         \u001b[0mparts\u001b[0m \u001b[0;34m=\u001b[0m \u001b[0;34m[\u001b[0m\u001b[0mself\u001b[0m\u001b[0;34m.\u001b[0m\u001b[0mrecv\u001b[0m\u001b[0;34m(\u001b[0m\u001b[0mflags\u001b[0m\u001b[0;34m,\u001b[0m \u001b[0mcopy\u001b[0m\u001b[0;34m=\u001b[0m\u001b[0mcopy\u001b[0m\u001b[0;34m,\u001b[0m \u001b[0mtrack\u001b[0m\u001b[0;34m=\u001b[0m\u001b[0mtrack\u001b[0m\u001b[0;34m)\u001b[0m\u001b[0;34m]\u001b[0m\u001b[0;34m\u001b[0m\u001b[0;34m\u001b[0m\u001b[0m\n\u001b[0m\u001b[1;32m    626\u001b[0m         \u001b[0;31m# have first part already, only loop while more to receive\u001b[0m\u001b[0;34m\u001b[0m\u001b[0;34m\u001b[0m\u001b[0;34m\u001b[0m\u001b[0m\n",
            "\u001b[0;32mzmq/backend/cython/socket.pyx\u001b[0m in \u001b[0;36mzmq.backend.cython.socket.Socket.recv\u001b[0;34m()\u001b[0m\n",
            "\u001b[0;32mzmq/backend/cython/socket.pyx\u001b[0m in \u001b[0;36mzmq.backend.cython.socket.Socket.recv\u001b[0;34m()\u001b[0m\n",
            "\u001b[0;32mzmq/backend/cython/socket.pyx\u001b[0m in \u001b[0;36mzmq.backend.cython.socket._recv_copy\u001b[0;34m()\u001b[0m\n",
            "\u001b[0;32m/usr/local/lib/python3.7/dist-packages/zmq/backend/cython/checkrc.pxd\u001b[0m in \u001b[0;36mzmq.backend.cython.checkrc._check_rc\u001b[0;34m()\u001b[0m\n",
            "\u001b[0;31mKeyboardInterrupt\u001b[0m: ",
            "\nDuring handling of the above exception, another exception occurred:\n",
            "\u001b[0;31mKeyboardInterrupt\u001b[0m                         Traceback (most recent call last)",
            "\u001b[0;32m<ipython-input-1-fe39bfb9bc76>\u001b[0m in \u001b[0;36m<module>\u001b[0;34m()\u001b[0m\n\u001b[1;32m      1\u001b[0m \u001b[0;31m# exercício 01\u001b[0m\u001b[0;34m\u001b[0m\u001b[0;34m\u001b[0m\u001b[0;34m\u001b[0m\u001b[0m\n\u001b[0;32m----> 2\u001b[0;31m \u001b[0mnota\u001b[0m \u001b[0;34m=\u001b[0m \u001b[0mint\u001b[0m\u001b[0;34m(\u001b[0m\u001b[0minput\u001b[0m\u001b[0;34m(\u001b[0m\u001b[0;34m'Digite um número de 0 a 10:'\u001b[0m\u001b[0;34m)\u001b[0m\u001b[0;34m)\u001b[0m\u001b[0;34m\u001b[0m\u001b[0;34m\u001b[0m\u001b[0m\n\u001b[0m\u001b[1;32m      3\u001b[0m \u001b[0;34m\u001b[0m\u001b[0m\n\u001b[1;32m      4\u001b[0m \u001b[0;32mwhile\u001b[0m \u001b[0;32mTrue\u001b[0m\u001b[0;34m:\u001b[0m\u001b[0;34m\u001b[0m\u001b[0;34m\u001b[0m\u001b[0m\n\u001b[1;32m      5\u001b[0m     \u001b[0;32mif\u001b[0m \u001b[0mnota\u001b[0m \u001b[0;34m<\u001b[0m \u001b[0;36m0\u001b[0m \u001b[0;32mor\u001b[0m \u001b[0mnota\u001b[0m \u001b[0;34m>\u001b[0m \u001b[0;36m10\u001b[0m\u001b[0;34m:\u001b[0m\u001b[0;34m\u001b[0m\u001b[0;34m\u001b[0m\u001b[0m\n",
            "\u001b[0;32m/usr/local/lib/python3.7/dist-packages/ipykernel/kernelbase.py\u001b[0m in \u001b[0;36mraw_input\u001b[0;34m(self, prompt)\u001b[0m\n\u001b[1;32m    702\u001b[0m             \u001b[0mself\u001b[0m\u001b[0;34m.\u001b[0m\u001b[0m_parent_ident\u001b[0m\u001b[0;34m,\u001b[0m\u001b[0;34m\u001b[0m\u001b[0;34m\u001b[0m\u001b[0m\n\u001b[1;32m    703\u001b[0m             \u001b[0mself\u001b[0m\u001b[0;34m.\u001b[0m\u001b[0m_parent_header\u001b[0m\u001b[0;34m,\u001b[0m\u001b[0;34m\u001b[0m\u001b[0;34m\u001b[0m\u001b[0m\n\u001b[0;32m--> 704\u001b[0;31m             \u001b[0mpassword\u001b[0m\u001b[0;34m=\u001b[0m\u001b[0;32mFalse\u001b[0m\u001b[0;34m,\u001b[0m\u001b[0;34m\u001b[0m\u001b[0;34m\u001b[0m\u001b[0m\n\u001b[0m\u001b[1;32m    705\u001b[0m         )\n\u001b[1;32m    706\u001b[0m \u001b[0;34m\u001b[0m\u001b[0m\n",
            "\u001b[0;32m/usr/local/lib/python3.7/dist-packages/ipykernel/kernelbase.py\u001b[0m in \u001b[0;36m_input_request\u001b[0;34m(self, prompt, ident, parent, password)\u001b[0m\n\u001b[1;32m    732\u001b[0m             \u001b[0;32mexcept\u001b[0m \u001b[0mKeyboardInterrupt\u001b[0m\u001b[0;34m:\u001b[0m\u001b[0;34m\u001b[0m\u001b[0;34m\u001b[0m\u001b[0m\n\u001b[1;32m    733\u001b[0m                 \u001b[0;31m# re-raise KeyboardInterrupt, to truncate traceback\u001b[0m\u001b[0;34m\u001b[0m\u001b[0;34m\u001b[0m\u001b[0;34m\u001b[0m\u001b[0m\n\u001b[0;32m--> 734\u001b[0;31m                 \u001b[0;32mraise\u001b[0m \u001b[0mKeyboardInterrupt\u001b[0m\u001b[0;34m\u001b[0m\u001b[0;34m\u001b[0m\u001b[0m\n\u001b[0m\u001b[1;32m    735\u001b[0m             \u001b[0;32melse\u001b[0m\u001b[0;34m:\u001b[0m\u001b[0;34m\u001b[0m\u001b[0;34m\u001b[0m\u001b[0m\n\u001b[1;32m    736\u001b[0m                 \u001b[0;32mbreak\u001b[0m\u001b[0;34m\u001b[0m\u001b[0;34m\u001b[0m\u001b[0m\n",
            "\u001b[0;31mKeyboardInterrupt\u001b[0m: "
          ]
        }
      ],
      "source": [
        "# exercício 01\n",
        "nota = int(input('Digite um número de 0 a 10:'))\n",
        "\n",
        "while True:\n",
        "    if nota < 0 or nota > 10:\n",
        "        nota = int(input('Comando inválido''\\nDigite um número de 0 a 10:'))\n",
        "    else:\n",
        "        print(nota)\n",
        "        break"
      ]
    },
    {
      "cell_type": "code",
      "source": [
        "#Exercício 02\n",
        "usuario = input('Digite seu usuário: ')\n",
        "senha = input('Digite sua senha: ')\n",
        "\n",
        "while True:\n",
        "    if usuario == senha:\n",
        "        print('Comando inválido')\n",
        "        usuario = input('Digite seu usuário: ')\n",
        "        senha = input('Digite sua senha: ')\n",
        "    else:\n",
        "        print('Login efetuado.')\n",
        "        break"
      ],
      "metadata": {
        "id": "BP7Mb9EnGEND"
      },
      "execution_count": null,
      "outputs": []
    },
    {
      "cell_type": "code",
      "source": [
        "# Exercício 03\n",
        "\n",
        "A = 80000\n",
        "B = 200000\n",
        "taxaA = 0.03\n",
        "taxaB = 0.015\n",
        "\n",
        "y = 0\n",
        "\n",
        "while A < B:\n",
        "    A = A + (A * taxaA)\n",
        "    B = B + (B * taxaB)\n",
        "    y = y + 1\n",
        "\n",
        "\n",
        "print(\"Serão necessários\", y, \"anos para que a população do país A ultrapasse ou iguale a população do país B\")"
      ],
      "metadata": {
        "id": "3SLYSSqbGKRX"
      },
      "execution_count": null,
      "outputs": []
    },
    {
      "cell_type": "code",
      "source": [
        "# Exercício 04\n",
        "\n",
        "A = int(input(\"Digite a população do primeiro país: \"))\n",
        "B = int(input(\"Digite a população do segundo país: \"))\n",
        "\n",
        "taxaA = float(input(\"Digite a taxa de crescimento do primeiro país: \"))\n",
        "taxaB = float(input(\"Digite a taxa de crescimento do segundo país: \"))\n",
        "\n",
        "y = 0\n",
        "while A < B:\n",
        "    A = A + (A * taxaA)\n",
        "    B = B + (B * taxaB)\n",
        "    y = y + 1\n",
        "\n",
        "while True:\n",
        "    if not A and B == int:\n",
        "        print(\"Comando inválido\")\n",
        "        A = int(input(\"Digite a população do primeiro país: \"))\n",
        "        B = int(input(\"Digite a população do segundo país: \"))\n",
        "\n",
        "        taxaA = float(input(\"Digite a taxa de crescimento do primeiro país: \"))\n",
        "        taxaB = float(input(\"Digite a taxa de crescimento do segundo país: \"))\n",
        "    else:\n",
        "        print(f\"O país A irá utrapassar o país B em {y} anos \")\n",
        "        break"
      ],
      "metadata": {
        "id": "6yCUMtPaGTcF"
      },
      "execution_count": null,
      "outputs": []
    },
    {
      "cell_type": "code",
      "source": [
        "# Exercício 05\n",
        "\n",
        "for x in range(1, 21):\n",
        "    print(x)\n",
        "    print(\"=\"*10)\n",
        "    \n",
        "for x in range(1, 21):\n",
        "    print(x, end=\" \")"
      ],
      "metadata": {
        "id": "qCxEG8MpGafc"
      },
      "execution_count": null,
      "outputs": []
    },
    {
      "cell_type": "code",
      "source": [
        "# Exercício 06\n",
        "\n",
        "num = []\n",
        "\n",
        "for x in range(5):\n",
        "    num.append(int(input(\"Digite um valor: \")))\n",
        "\n",
        "print(f\"O maior número é {max(num)}\")\n"
      ],
      "metadata": {
        "id": "_Qm_cbnrGfBy"
      },
      "execution_count": null,
      "outputs": []
    },
    {
      "cell_type": "code",
      "source": [
        "# Exercício 07\n",
        "num = []\n",
        "\n",
        "for x in range(5):\n",
        "    num.append(int(input(\"Digite um valor: \")))\n",
        "\n",
        "\n",
        "print(f\"a soma dos números é {sum(num)} e a média é {sum(num)/5}\")\n"
      ],
      "metadata": {
        "id": "0l1xoOSUGv9O"
      },
      "execution_count": null,
      "outputs": []
    },
    {
      "cell_type": "code",
      "source": [
        "# Exercício 08\n",
        "\n",
        "for x in range(0, 51):\n",
        "    if x % 2 != 0:\n",
        "        print(x)\n"
      ],
      "metadata": {
        "id": "gLJFGsdXG0Xm"
      },
      "execution_count": null,
      "outputs": []
    },
    {
      "cell_type": "code",
      "source": [
        "# Exercício 09\n",
        "\n",
        "n1 = int(input(\"Digite um número inteiro: \"))\n",
        "n2 = int(input(\"Digite um número inteiro: \"))\n",
        "\n",
        "for x in range(1+n1, n2):\n",
        "    print(x)\n"
      ],
      "metadata": {
        "id": "Ql8heBmOG4y4"
      },
      "execution_count": null,
      "outputs": []
    },
    {
      "cell_type": "code",
      "source": [
        "# Exercício 10\n",
        "\n",
        "n1 = int(input(\"Digite um número inteiro: \"))\n",
        "n2 = int(input(\"Digite um número inteiro: \"))\n",
        "\n",
        "soma = []\n",
        "for x in range(1+n1, n2):\n",
        "    soma.append(x)\n",
        "    print(x)\n",
        "\n",
        "print(f\"A soma dos números é {sum(soma)}\")\n"
      ],
      "metadata": {
        "id": "nwfE82H1G8b1"
      },
      "execution_count": null,
      "outputs": []
    },
    {
      "cell_type": "code",
      "source": [
        "# Exercício 11\n",
        "\n",
        "quantCD = int(input(\"Digite a quantidade de CDs: \"))\n",
        "print(\"\")\n",
        "\n",
        "\n",
        "valorTotal = 0\n",
        "\n",
        "for x in range(quantCD):\n",
        "    valorCD = eval(input(\"Digite o valor do CD: \"))\n",
        "    valorTotal += valorCD\n",
        "    valorMedio = valorTotal / quantCD\n",
        "\n",
        "\n",
        "print(\"\")\n",
        "print(\"O valor total gasto: R$\", valorTotal)\n",
        "print(f\"O valor médio gasto por cada CD foi de: R$ {valorMedio}\")\n"
      ],
      "metadata": {
        "id": "FQgbst0gHAVk"
      },
      "execution_count": null,
      "outputs": []
    },
    {
      "cell_type": "code",
      "source": [
        "# Exercício 12\n",
        "\n",
        "listaAluno = []\n",
        "listaAltura = []\n",
        "\n",
        "for x in range(10):\n",
        "    numAluno = listaAluno.append(int(input(\"digite o número do aluno: \")))\n",
        "    altura = listaAltura.append(int(input(\"Digite a altura do aluno: \")))\n",
        "\n",
        "print(f\"Aluno nº: {max(listaAluno)}\\nAltura: {max(listaAltura)}cm\")\n",
        "print(f\"Aluno nº: {min(listaAluno)}, \\nAltura: {min(listaAltura)}cm\")\n"
      ],
      "metadata": {
        "id": "aa6-Y6kUHEYI"
      },
      "execution_count": null,
      "outputs": []
    },
    {
      "cell_type": "code",
      "source": [
        "# Exercício 13\n",
        "\n",
        "lista1 = []\n",
        "lista2 = []\n",
        "lista3 = []\n",
        "lista4 = []\n",
        "n = 0\n",
        "while 0 <= n <= 100:\n",
        "    n = int(input(\"Digite um número: \"))\n",
        "    if 0 <= n <= 25:\n",
        "        lista1.append(n)\n",
        "    elif 26 <= n <= 50:\n",
        "        lista2.append(n)\n",
        "    elif 51 <= n <= 75:\n",
        "        lista3.append(n)\n",
        "    elif 76 <= n <= 100:\n",
        "        lista4.append(n)\n",
        "    else:\n",
        "        break\n",
        "print(\"Há \", len(lista1), \"números entre votos 0 e 25.\")\n",
        "print(\"Há \", len(lista2), \"números entre votos 26 e 50.\")\n",
        "print(\"Há \", len(lista3), \"números entre votos 51 e 75.\")\n",
        "print(\"Há \", len(lista4), \"números entre votos 76 e 100.\")\n"
      ],
      "metadata": {
        "id": "xFXTK385HLPE"
      },
      "execution_count": null,
      "outputs": []
    }
  ]
}