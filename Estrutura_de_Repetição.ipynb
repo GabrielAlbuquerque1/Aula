{
  "nbformat": 4,
  "nbformat_minor": 0,
  "metadata": {
    "colab": {
      "name": "Estrutura_de_Repetição.ipynb",
      "provenance": [],
      "collapsed_sections": [],
      "authorship_tag": "ABX9TyNqvOrIIgwO8RRGiRdMiw37",
      "include_colab_link": true
    },
    "kernelspec": {
      "name": "python3",
      "display_name": "Python 3"
    },
    "language_info": {
      "name": "python"
    }
  },
  "cells": [
    {
      "cell_type": "markdown",
      "metadata": {
        "id": "view-in-github",
        "colab_type": "text"
      },
      "source": [
        "<a href=\"https://colab.research.google.com/github/GabrielAlbuquerque1/Aula/blob/ETEPD/Estrutura_de_Repeti%C3%A7%C3%A3o.ipynb\" target=\"_parent\"><img src=\"https://colab.research.google.com/assets/colab-badge.svg\" alt=\"Open In Colab\"/></a>"
      ]
    },
    {
      "cell_type": "code",
      "execution_count": 4,
      "metadata": {
        "colab": {
          "base_uri": "https://localhost:8080/"
        },
        "id": "idLLN-qlF-pj",
        "outputId": "9f2d9da1-63d5-4f44-bb81-1427c61e2ba7"
      },
      "outputs": [
        {
          "output_type": "stream",
          "name": "stdout",
          "text": [
            "Digite um número de 0 a 10:11\n",
            "Comando inválido\n",
            "Digite um número de 0 a 10:1\n",
            "O número digitado foi : 1\n"
          ]
        }
      ],
      "source": [
        "# exercício 01\n",
        "nota = int(input('Digite um número de 0 a 10:'))\n",
        "\n",
        "while True:\n",
        "    if nota < 0 or nota > 10:\n",
        "        nota = int(input('Comando inválido''\\nDigite um número de 0 a 10:'))\n",
        "    else:\n",
        "        print(f\"O número digitado foi : {nota}\")\n",
        "        break"
      ]
    },
    {
      "cell_type": "code",
      "source": [
        "#Exercício 02\n",
        "usuario = input('Digite seu usuário: ')\n",
        "senha = input('Digite sua senha: ')\n",
        "\n",
        "while True:\n",
        "    if usuario == senha:\n",
        "        print('Comando inválido')\n",
        "        usuario = input('Digite seu usuário: ')\n",
        "        senha = input('Digite sua senha: ')\n",
        "    else:\n",
        "        print('Login efetuado.')\n",
        "        break"
      ],
      "metadata": {
        "id": "BP7Mb9EnGEND"
      },
      "execution_count": null,
      "outputs": []
    },
    {
      "cell_type": "code",
      "source": [
        "# Exercício 03\n",
        "\n",
        "A = 80000\n",
        "B = 200000\n",
        "taxaA = 0.03\n",
        "taxaB = 0.015\n",
        "\n",
        "y = 0\n",
        "\n",
        "while A < B:\n",
        "    A = A + (A * taxaA)\n",
        "    B = B + (B * taxaB)\n",
        "    y = y + 1\n",
        "\n",
        "\n",
        "print(\"Serão necessários\", y, \"anos para que a população do país A ultrapasse ou iguale a população do país B\")"
      ],
      "metadata": {
        "id": "3SLYSSqbGKRX"
      },
      "execution_count": null,
      "outputs": []
    },
    {
      "cell_type": "code",
      "source": [
        "# Exercício 04\n",
        "\n",
        "A = int(input(\"Digite a população do primeiro país: \"))\n",
        "B = int(input(\"Digite a população do segundo país: \"))\n",
        "\n",
        "taxaA = float(input(\"Digite a taxa de crescimento do primeiro país: \"))\n",
        "taxaB = float(input(\"Digite a taxa de crescimento do segundo país: \"))\n",
        "\n",
        "y = 0\n",
        "while A < B:\n",
        "    A = A + (A * taxaA)\n",
        "    B = B + (B * taxaB)\n",
        "    y = y + 1\n",
        "\n",
        "while True:\n",
        "    if not A and B == int:\n",
        "        print(\"Comando inválido\")\n",
        "        A = int(input(\"Digite a população do primeiro país: \"))\n",
        "        B = int(input(\"Digite a população do segundo país: \"))\n",
        "\n",
        "        taxaA = float(input(\"Digite a taxa de crescimento do primeiro país: \"))\n",
        "        taxaB = float(input(\"Digite a taxa de crescimento do segundo país: \"))\n",
        "    else:\n",
        "        print(f\"O país A irá utrapassar o país B em {y} anos \")\n",
        "        break"
      ],
      "metadata": {
        "id": "6yCUMtPaGTcF"
      },
      "execution_count": null,
      "outputs": []
    },
    {
      "cell_type": "code",
      "source": [
        "# Exercício 05\n",
        "\n",
        "for x in range(1, 21):\n",
        "    print(x)\n",
        "    print(\"=\"*10)\n",
        "    \n",
        "for x in range(1, 21):\n",
        "    print(x, end=\" \")"
      ],
      "metadata": {
        "id": "qCxEG8MpGafc"
      },
      "execution_count": null,
      "outputs": []
    },
    {
      "cell_type": "code",
      "source": [
        "# Exercício 06\n",
        "\n",
        "num = []\n",
        "\n",
        "for x in range(5):\n",
        "    num.append(int(input(\"Digite um valor: \")))\n",
        "\n",
        "print(f\"O maior número é {max(num)}\")\n"
      ],
      "metadata": {
        "id": "_Qm_cbnrGfBy"
      },
      "execution_count": null,
      "outputs": []
    },
    {
      "cell_type": "code",
      "source": [
        "# Exercício 07\n",
        "num = []\n",
        "\n",
        "for x in range(5):\n",
        "    num.append(int(input(\"Digite um valor: \")))\n",
        "\n",
        "\n",
        "print(f\"a soma dos números é {sum(num)} e a média é {sum(num)/5}\")\n"
      ],
      "metadata": {
        "id": "0l1xoOSUGv9O"
      },
      "execution_count": null,
      "outputs": []
    },
    {
      "cell_type": "code",
      "source": [
        "# Exercício 08\n",
        "\n",
        "for x in range(0, 51):\n",
        "    if x % 2 != 0:\n",
        "        print(x)\n"
      ],
      "metadata": {
        "id": "gLJFGsdXG0Xm"
      },
      "execution_count": null,
      "outputs": []
    },
    {
      "cell_type": "code",
      "source": [
        "# Exercício 09\n",
        "\n",
        "n1 = int(input(\"Digite um número inteiro: \"))\n",
        "n2 = int(input(\"Digite um número inteiro: \"))\n",
        "\n",
        "for x in range(1+n1, n2):\n",
        "    print(x)\n"
      ],
      "metadata": {
        "id": "Ql8heBmOG4y4"
      },
      "execution_count": null,
      "outputs": []
    },
    {
      "cell_type": "code",
      "source": [
        "# Exercício 10\n",
        "\n",
        "n1 = int(input(\"Digite um número inteiro: \"))\n",
        "n2 = int(input(\"Digite um número inteiro: \"))\n",
        "\n",
        "soma = []\n",
        "for x in range(1+n1, n2):\n",
        "    soma.append(x)\n",
        "    print(x)\n",
        "\n",
        "print(f\"A soma dos números é {sum(soma)}\")\n"
      ],
      "metadata": {
        "id": "nwfE82H1G8b1"
      },
      "execution_count": null,
      "outputs": []
    },
    {
      "cell_type": "code",
      "source": [
        "# Exercício 11\n",
        "\n",
        "quantCD = int(input(\"Digite a quantidade de CDs: \"))\n",
        "print(\"\")\n",
        "\n",
        "\n",
        "valorTotal = 0\n",
        "\n",
        "for x in range(quantCD):\n",
        "    valorCD = eval(input(\"Digite o valor do CD: \"))\n",
        "    valorTotal += valorCD\n",
        "    valorMedio = valorTotal / quantCD\n",
        "\n",
        "\n",
        "print(\"\")\n",
        "print(\"O valor total gasto: R$\", valorTotal)\n",
        "print(f\"O valor médio gasto por cada CD foi de: R$ {valorMedio}\")\n"
      ],
      "metadata": {
        "id": "FQgbst0gHAVk"
      },
      "execution_count": null,
      "outputs": []
    },
    {
      "cell_type": "code",
      "source": [
        "# Exercício 12\n",
        "\n",
        "listaAluno = []\n",
        "listaAltura = []\n",
        "\n",
        "for x in range(10):\n",
        "    numAluno = listaAluno.append(int(input(\"digite o número do aluno: \")))\n",
        "    altura = listaAltura.append(int(input(\"Digite a altura do aluno: \")))\n",
        "\n",
        "print(f\"Aluno nº: {max(listaAluno)}\\nAltura: {max(listaAltura)}cm\")\n",
        "print(f\"Aluno nº: {min(listaAluno)}, \\nAltura: {min(listaAltura)}cm\")\n"
      ],
      "metadata": {
        "id": "aa6-Y6kUHEYI"
      },
      "execution_count": null,
      "outputs": []
    },
    {
      "cell_type": "code",
      "source": [
        "# Exercício 13\n",
        "\n",
        "lista1 = []\n",
        "lista2 = []\n",
        "lista3 = []\n",
        "lista4 = []\n",
        "n = 0\n",
        "while 0 <= n <= 100:\n",
        "    n = int(input(\"Digite um número: \"))\n",
        "    if 0 <= n <= 25:\n",
        "        lista1.append(n)\n",
        "    elif 26 <= n <= 50:\n",
        "        lista2.append(n)\n",
        "    elif 51 <= n <= 75:\n",
        "        lista3.append(n)\n",
        "    elif 76 <= n <= 100:\n",
        "        lista4.append(n)\n",
        "    else:\n",
        "        break\n",
        "print(\"Há \", len(lista1), \"números entre votos 0 e 25.\")\n",
        "print(\"Há \", len(lista2), \"números entre votos 26 e 50.\")\n",
        "print(\"Há \", len(lista3), \"números entre votos 51 e 75.\")\n",
        "print(\"Há \", len(lista4), \"números entre votos 76 e 100.\")\n"
      ],
      "metadata": {
        "id": "xFXTK385HLPE"
      },
      "execution_count": null,
      "outputs": []
    }
  ]
}